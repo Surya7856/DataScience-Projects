{
 "cells": [
  {
   "cell_type": "code",
   "execution_count": 1,
   "id": "2be287bb",
   "metadata": {},
   "outputs": [],
   "source": [
    "import yfinance as yf\n",
    "import pandas as pd"
   ]
  },
  {
   "cell_type": "code",
   "execution_count": 2,
   "id": "b2a98bc0",
   "metadata": {},
   "outputs": [],
   "source": [
    "tesla=yf.Ticker('TSLA') #retriving the telsa data"
   ]
  },
  {
   "cell_type": "code",
   "execution_count": 4,
   "id": "8b7a7a27",
   "metadata": {},
   "outputs": [],
   "source": [
    "tesla_data=tesla.history(period='10y') #getting the data from last 10 years"
   ]
  },
  {
   "cell_type": "code",
   "execution_count": 7,
   "id": "3c19e1a9",
   "metadata": {},
   "outputs": [
    {
     "data": {
      "text/html": [
       "<div>\n",
       "<style scoped>\n",
       "    .dataframe tbody tr th:only-of-type {\n",
       "        vertical-align: middle;\n",
       "    }\n",
       "\n",
       "    .dataframe tbody tr th {\n",
       "        vertical-align: top;\n",
       "    }\n",
       "\n",
       "    .dataframe thead th {\n",
       "        text-align: right;\n",
       "    }\n",
       "</style>\n",
       "<table border=\"1\" class=\"dataframe\">\n",
       "  <thead>\n",
       "    <tr style=\"text-align: right;\">\n",
       "      <th></th>\n",
       "      <th>Date</th>\n",
       "      <th>Open</th>\n",
       "      <th>High</th>\n",
       "      <th>Low</th>\n",
       "      <th>Close</th>\n",
       "      <th>Volume</th>\n",
       "      <th>Dividends</th>\n",
       "      <th>Stock Splits</th>\n",
       "    </tr>\n",
       "  </thead>\n",
       "  <tbody>\n",
       "    <tr>\n",
       "      <th>0</th>\n",
       "      <td>2014-03-03 00:00:00-05:00</td>\n",
       "      <td>15.817333</td>\n",
       "      <td>16.776667</td>\n",
       "      <td>15.666000</td>\n",
       "      <td>16.704000</td>\n",
       "      <td>196339500</td>\n",
       "      <td>0.0</td>\n",
       "      <td>0.0</td>\n",
       "    </tr>\n",
       "    <tr>\n",
       "      <th>1</th>\n",
       "      <td>2014-03-04 00:00:00-05:00</td>\n",
       "      <td>17.232000</td>\n",
       "      <td>17.333332</td>\n",
       "      <td>16.855333</td>\n",
       "      <td>16.989332</td>\n",
       "      <td>131184000</td>\n",
       "      <td>0.0</td>\n",
       "      <td>0.0</td>\n",
       "    </tr>\n",
       "    <tr>\n",
       "      <th>2</th>\n",
       "      <td>2014-03-05 00:00:00-05:00</td>\n",
       "      <td>17.114668</td>\n",
       "      <td>17.132668</td>\n",
       "      <td>16.786667</td>\n",
       "      <td>16.844000</td>\n",
       "      <td>89035500</td>\n",
       "      <td>0.0</td>\n",
       "      <td>0.0</td>\n",
       "    </tr>\n",
       "    <tr>\n",
       "      <th>3</th>\n",
       "      <td>2014-03-06 00:00:00-05:00</td>\n",
       "      <td>16.942667</td>\n",
       "      <td>17.166668</td>\n",
       "      <td>16.629999</td>\n",
       "      <td>16.862667</td>\n",
       "      <td>110416500</td>\n",
       "      <td>0.0</td>\n",
       "      <td>0.0</td>\n",
       "    </tr>\n",
       "    <tr>\n",
       "      <th>4</th>\n",
       "      <td>2014-03-07 00:00:00-05:00</td>\n",
       "      <td>16.862667</td>\n",
       "      <td>16.990000</td>\n",
       "      <td>16.294001</td>\n",
       "      <td>16.414000</td>\n",
       "      <td>117184500</td>\n",
       "      <td>0.0</td>\n",
       "      <td>0.0</td>\n",
       "    </tr>\n",
       "  </tbody>\n",
       "</table>\n",
       "</div>"
      ],
      "text/plain": [
       "                       Date       Open       High        Low      Close  \\\n",
       "0 2014-03-03 00:00:00-05:00  15.817333  16.776667  15.666000  16.704000   \n",
       "1 2014-03-04 00:00:00-05:00  17.232000  17.333332  16.855333  16.989332   \n",
       "2 2014-03-05 00:00:00-05:00  17.114668  17.132668  16.786667  16.844000   \n",
       "3 2014-03-06 00:00:00-05:00  16.942667  17.166668  16.629999  16.862667   \n",
       "4 2014-03-07 00:00:00-05:00  16.862667  16.990000  16.294001  16.414000   \n",
       "\n",
       "      Volume  Dividends  Stock Splits  \n",
       "0  196339500        0.0           0.0  \n",
       "1  131184000        0.0           0.0  \n",
       "2   89035500        0.0           0.0  \n",
       "3  110416500        0.0           0.0  \n",
       "4  117184500        0.0           0.0  "
      ]
     },
     "execution_count": 7,
     "metadata": {},
     "output_type": "execute_result"
    }
   ],
   "source": [
    "tesla_data.reset_index().head() #reseting index and show first 5 row of the data"
   ]
  },
  {
   "cell_type": "code",
   "execution_count": 8,
   "id": "cef77d70",
   "metadata": {},
   "outputs": [],
   "source": [
    "from bs4 import BeautifulSoup\n",
    "import requests"
   ]
  },
  {
   "cell_type": "code",
   "execution_count": 35,
   "id": "b9b74488",
   "metadata": {},
   "outputs": [],
   "source": [
    "# using requests library to download the webpage\n",
    "url='https://cf-courses-data.s3.us.cloud-object-storage.appdomain.cloud/IBMDeveloperSkillsNetwork-PY0220EN-SkillsNetwork/labs/project/revenue.htm'\n",
    "# Save the text of the response\n",
    "html_text = requests.get(url).text\n",
    "# Parse the html data using beautiful_soup.\n",
    "soup=BeautifulSoup(html_text, 'html5lib')"
   ]
  },
  {
   "cell_type": "code",
   "execution_count": 106,
   "id": "b94c6a01",
   "metadata": {},
   "outputs": [],
   "source": [
    "tesla_revenue=pd.DataFrame(columns=['Date','Revenue'])\n",
    "for row in soup.find_all('table',attrs={'class':'historical_data_table table'})[1].tbody.find_all('tr'):\n",
    "    col=row.find_all('td')\n",
    "    date=col[0].text\n",
    "    revenue=col[1].text\n",
    "    new_row=pd.Series({'Date':date,'Revenue':revenue})\n",
    "    tesla_revenue.loc[len(tesla_revenue)]=new_row"
   ]
  },
  {
   "cell_type": "code",
   "execution_count": 138,
   "id": "2c42c633",
   "metadata": {
    "scrolled": true
   },
   "outputs": [
    {
     "data": {
      "text/html": [
       "<div>\n",
       "<style scoped>\n",
       "    .dataframe tbody tr th:only-of-type {\n",
       "        vertical-align: middle;\n",
       "    }\n",
       "\n",
       "    .dataframe tbody tr th {\n",
       "        vertical-align: top;\n",
       "    }\n",
       "\n",
       "    .dataframe thead th {\n",
       "        text-align: right;\n",
       "    }\n",
       "</style>\n",
       "<table border=\"1\" class=\"dataframe\">\n",
       "  <thead>\n",
       "    <tr style=\"text-align: right;\">\n",
       "      <th></th>\n",
       "      <th>Date</th>\n",
       "      <th>Revenue</th>\n",
       "    </tr>\n",
       "  </thead>\n",
       "  <tbody>\n",
       "    <tr>\n",
       "      <th>57</th>\n",
       "      <td>2006-01-31</td>\n",
       "      <td>1667</td>\n",
       "    </tr>\n",
       "    <tr>\n",
       "      <th>58</th>\n",
       "      <td>2005-10-31</td>\n",
       "      <td>534</td>\n",
       "    </tr>\n",
       "    <tr>\n",
       "      <th>59</th>\n",
       "      <td>2005-07-31</td>\n",
       "      <td>416</td>\n",
       "    </tr>\n",
       "    <tr>\n",
       "      <th>60</th>\n",
       "      <td>2005-04-30</td>\n",
       "      <td>475</td>\n",
       "    </tr>\n",
       "    <tr>\n",
       "      <th>61</th>\n",
       "      <td>2005-01-31</td>\n",
       "      <td>709</td>\n",
       "    </tr>\n",
       "  </tbody>\n",
       "</table>\n",
       "</div>"
      ],
      "text/plain": [
       "          Date  Revenue\n",
       "57  2006-01-31     1667\n",
       "58  2005-10-31      534\n",
       "59  2005-07-31      416\n",
       "60  2005-04-30      475\n",
       "61  2005-01-31      709"
      ]
     },
     "execution_count": 138,
     "metadata": {},
     "output_type": "execute_result"
    }
   ],
   "source": [
    "tesla_revenue.tail()"
   ]
  },
  {
   "cell_type": "code",
   "execution_count": 133,
   "id": "7796d1f8",
   "metadata": {},
   "outputs": [
    {
     "data": {
      "text/plain": [
       "'2194'"
      ]
     },
     "execution_count": 133,
     "metadata": {},
     "output_type": "execute_result"
    }
   ],
   "source": [
    "tesla_revenue.iloc[1]['Revenue'].replace('$',\"\")"
   ]
  },
  {
   "cell_type": "code",
   "execution_count": 134,
   "id": "a069730f",
   "metadata": {},
   "outputs": [],
   "source": [
    "tesla_revenue['Revenue']=tesla_revenue['Revenue'].str.replace('$',\"\")"
   ]
  },
  {
   "cell_type": "code",
   "execution_count": 136,
   "id": "26ebfad6",
   "metadata": {},
   "outputs": [],
   "source": [
    "tesla_revenue['Revenue']=tesla_revenue['Revenue'].astype(int)"
   ]
  },
  {
   "cell_type": "code",
   "execution_count": 77,
   "id": "87cd98c2",
   "metadata": {},
   "outputs": [],
   "source": [
    "GameStop=yf.Ticker('GME') #retriving the GameStop data"
   ]
  },
  {
   "cell_type": "code",
   "execution_count": 79,
   "id": "e024930e",
   "metadata": {},
   "outputs": [],
   "source": [
    "GameStop_data=GameStop.history(period='10y') #getting the data from last 10 years"
   ]
  },
  {
   "cell_type": "code",
   "execution_count": 80,
   "id": "66299392",
   "metadata": {},
   "outputs": [
    {
     "data": {
      "text/html": [
       "<div>\n",
       "<style scoped>\n",
       "    .dataframe tbody tr th:only-of-type {\n",
       "        vertical-align: middle;\n",
       "    }\n",
       "\n",
       "    .dataframe tbody tr th {\n",
       "        vertical-align: top;\n",
       "    }\n",
       "\n",
       "    .dataframe thead th {\n",
       "        text-align: right;\n",
       "    }\n",
       "</style>\n",
       "<table border=\"1\" class=\"dataframe\">\n",
       "  <thead>\n",
       "    <tr style=\"text-align: right;\">\n",
       "      <th></th>\n",
       "      <th>Date</th>\n",
       "      <th>Open</th>\n",
       "      <th>High</th>\n",
       "      <th>Low</th>\n",
       "      <th>Close</th>\n",
       "      <th>Volume</th>\n",
       "      <th>Dividends</th>\n",
       "      <th>Stock Splits</th>\n",
       "    </tr>\n",
       "  </thead>\n",
       "  <tbody>\n",
       "    <tr>\n",
       "      <th>0</th>\n",
       "      <td>2014-03-04 00:00:00-05:00</td>\n",
       "      <td>6.753671</td>\n",
       "      <td>6.813104</td>\n",
       "      <td>6.703244</td>\n",
       "      <td>6.726656</td>\n",
       "      <td>6133200</td>\n",
       "      <td>0.0</td>\n",
       "      <td>0.0</td>\n",
       "    </tr>\n",
       "    <tr>\n",
       "      <th>1</th>\n",
       "      <td>2014-03-05 00:00:00-05:00</td>\n",
       "      <td>6.795093</td>\n",
       "      <td>7.022017</td>\n",
       "      <td>6.753671</td>\n",
       "      <td>6.978793</td>\n",
       "      <td>15731200</td>\n",
       "      <td>0.0</td>\n",
       "      <td>0.0</td>\n",
       "    </tr>\n",
       "    <tr>\n",
       "      <th>2</th>\n",
       "      <td>2014-03-06 00:00:00-05:00</td>\n",
       "      <td>6.984196</td>\n",
       "      <td>7.085051</td>\n",
       "      <td>6.917560</td>\n",
       "      <td>6.967987</td>\n",
       "      <td>11832800</td>\n",
       "      <td>0.0</td>\n",
       "      <td>0.0</td>\n",
       "    </tr>\n",
       "    <tr>\n",
       "      <th>3</th>\n",
       "      <td>2014-03-07 00:00:00-05:00</td>\n",
       "      <td>7.022016</td>\n",
       "      <td>7.056234</td>\n",
       "      <td>6.919359</td>\n",
       "      <td>6.937369</td>\n",
       "      <td>8106400</td>\n",
       "      <td>0.0</td>\n",
       "      <td>0.0</td>\n",
       "    </tr>\n",
       "    <tr>\n",
       "      <th>4</th>\n",
       "      <td>2014-03-10 00:00:00-04:00</td>\n",
       "      <td>6.937372</td>\n",
       "      <td>7.020216</td>\n",
       "      <td>6.856327</td>\n",
       "      <td>6.935570</td>\n",
       "      <td>9502000</td>\n",
       "      <td>0.0</td>\n",
       "      <td>0.0</td>\n",
       "    </tr>\n",
       "  </tbody>\n",
       "</table>\n",
       "</div>"
      ],
      "text/plain": [
       "                       Date      Open      High       Low     Close    Volume  \\\n",
       "0 2014-03-04 00:00:00-05:00  6.753671  6.813104  6.703244  6.726656   6133200   \n",
       "1 2014-03-05 00:00:00-05:00  6.795093  7.022017  6.753671  6.978793  15731200   \n",
       "2 2014-03-06 00:00:00-05:00  6.984196  7.085051  6.917560  6.967987  11832800   \n",
       "3 2014-03-07 00:00:00-05:00  7.022016  7.056234  6.919359  6.937369   8106400   \n",
       "4 2014-03-10 00:00:00-04:00  6.937372  7.020216  6.856327  6.935570   9502000   \n",
       "\n",
       "   Dividends  Stock Splits  \n",
       "0        0.0           0.0  \n",
       "1        0.0           0.0  \n",
       "2        0.0           0.0  \n",
       "3        0.0           0.0  \n",
       "4        0.0           0.0  "
      ]
     },
     "execution_count": 80,
     "metadata": {},
     "output_type": "execute_result"
    }
   ],
   "source": [
    "GameStop_data.reset_index().head() #reseting index and show first 5 row of the data"
   ]
  },
  {
   "cell_type": "code",
   "execution_count": 81,
   "id": "0401bb75",
   "metadata": {},
   "outputs": [],
   "source": [
    "# using requests library to download the webpage\n",
    "url='https://cf-courses-data.s3.us.cloud-object-storage.appdomain.cloud/IBMDeveloperSkillsNetwork-PY0220EN-SkillsNetwork/labs/project/stock.html'\n",
    "# Save the text of the response\n",
    "html_text = requests.get(url).text\n",
    "# Parse the html data using beautiful_soup.\n",
    "soup=BeautifulSoup(html_text, 'html5lib')"
   ]
  },
  {
   "cell_type": "code",
   "execution_count": 91,
   "id": "502e057c",
   "metadata": {},
   "outputs": [],
   "source": [
    "Gamestop_revenue=pd.DataFrame(columns=['Date','Revenue'])\n",
    "for row in soup.find_all('table',attrs={'class':'historical_data_table table'})[1].tbody.find_all('tr'):\n",
    "    col=row.find_all('td')\n",
    "    date=col[0].text\n",
    "    revenue=col[1].text\n",
    "    new_row=pd.Series({'Date':date,'Revenue':revenue})\n",
    "    Gamestop_revenue.loc[len(Gamestop_revenue)]=new_row"
   ]
  },
  {
   "cell_type": "code",
   "execution_count": 98,
   "id": "8dd48550",
   "metadata": {},
   "outputs": [],
   "source": [
    "Gamestop_revenue['Revenue']=Gamestop_revenue['Revenue'].str.replace(r'$|,', '', regex=True)"
   ]
  },
  {
   "cell_type": "code",
   "execution_count": 101,
   "id": "f9e34093",
   "metadata": {},
   "outputs": [],
   "source": [
    "Gamestop_revenue['Revenue']=Gamestop_revenue['Revenue'].astype(int)"
   ]
  },
  {
   "cell_type": "code",
   "execution_count": 143,
   "id": "7c1158fe",
   "metadata": {},
   "outputs": [
    {
     "data": {
      "text/html": [
       "<div>\n",
       "<style scoped>\n",
       "    .dataframe tbody tr th:only-of-type {\n",
       "        vertical-align: middle;\n",
       "    }\n",
       "\n",
       "    .dataframe tbody tr th {\n",
       "        vertical-align: top;\n",
       "    }\n",
       "\n",
       "    .dataframe thead th {\n",
       "        text-align: right;\n",
       "    }\n",
       "</style>\n",
       "<table border=\"1\" class=\"dataframe\">\n",
       "  <thead>\n",
       "    <tr style=\"text-align: right;\">\n",
       "      <th></th>\n",
       "      <th>Date</th>\n",
       "      <th>Revenue</th>\n",
       "    </tr>\n",
       "  </thead>\n",
       "  <tbody>\n",
       "    <tr>\n",
       "      <th>57</th>\n",
       "      <td>2006-01-31</td>\n",
       "      <td>1667</td>\n",
       "    </tr>\n",
       "    <tr>\n",
       "      <th>58</th>\n",
       "      <td>2005-10-31</td>\n",
       "      <td>534</td>\n",
       "    </tr>\n",
       "    <tr>\n",
       "      <th>59</th>\n",
       "      <td>2005-07-31</td>\n",
       "      <td>416</td>\n",
       "    </tr>\n",
       "    <tr>\n",
       "      <th>60</th>\n",
       "      <td>2005-04-30</td>\n",
       "      <td>475</td>\n",
       "    </tr>\n",
       "    <tr>\n",
       "      <th>61</th>\n",
       "      <td>2005-01-31</td>\n",
       "      <td>709</td>\n",
       "    </tr>\n",
       "  </tbody>\n",
       "</table>\n",
       "</div>"
      ],
      "text/plain": [
       "          Date  Revenue\n",
       "57  2006-01-31     1667\n",
       "58  2005-10-31      534\n",
       "59  2005-07-31      416\n",
       "60  2005-04-30      475\n",
       "61  2005-01-31      709"
      ]
     },
     "execution_count": 143,
     "metadata": {},
     "output_type": "execute_result"
    }
   ],
   "source": [
    "Gamestop_revenue.tail()"
   ]
  },
  {
   "cell_type": "code",
   "execution_count": 139,
   "id": "2b9d2f1d",
   "metadata": {},
   "outputs": [],
   "source": [
    "def make_graph(data,col1,col2):\n",
    "    return data.plot(x=col1,y=col2)"
   ]
  },
  {
   "cell_type": "code",
   "execution_count": 140,
   "id": "2ff515c2",
   "metadata": {},
   "outputs": [
    {
     "data": {
      "text/plain": [
       "<Axes: xlabel='Date'>"
      ]
     },
     "execution_count": 140,
     "metadata": {},
     "output_type": "execute_result"
    },
    {
     "data": {
      "image/png": "[encoded data removed]",
      "text/plain": [
       "<Figure size 640x480 with 1 Axes>"
      ]
     },
     "metadata": {},
     "output_type": "display_data"
    }
   ],
   "source": [
    "make_graph(tesla_revenue,'Date','Revenue')"
   ]
  },
  {
   "cell_type": "code",
   "execution_count": 141,
   "id": "6302e446",
   "metadata": {},
   "outputs": [
    {
     "data": {
      "text/plain": [
       "<Axes: xlabel='Date'>"
      ]
     },
     "execution_count": 141,
     "metadata": {},
     "output_type": "execute_result"
    },
    {
     "data": {
      "image/png": "[encoded data removed]",
      "text/plain": [
       "<Figure size 640x480 with 1 Axes>"
      ]
     },
     "metadata": {},
     "output_type": "display_data"
    }
   ],
   "source": [
    "make_graph(Gamestop_revenue,'Date','Revenue')"
   ]
  },
  {
   "cell_type": "code",
   "execution_count": null,
   "id": "1903c0da",
   "metadata": {},
   "outputs": [],
   "source": []
  }
 ],
 "metadata": {
  "kernelspec": {
   "display_name": "Python 3 (ipykernel)",
   "language": "python",
   "name": "python3"
  },
  "language_info": {
   "codemirror_mode": {
    "name": "ipython",
    "version": 3
   },
   "file_extension": ".py",
   "mimetype": "text/x-python",
   "name": "python",
   "nbconvert_exporter": "python",
   "pygments_lexer": "ipython3",
   "version": "3.11.5"
  }
 },
 "nbformat": 4,
 "nbformat_minor": 5
}
